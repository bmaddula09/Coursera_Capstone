{
 "cells": [
  {
   "cell_type": "markdown",
   "metadata": {},
   "source": [
    "# Data Section\n",
    "\n",
    "## Data Sources\n",
    "To address the business problem discussed, the required data sets will be generated using the following sources:\n",
    "1.\tToronto neighborhoods: https://en.wikipedia.org/wiki/List_of_postal_codes_of_Canada:_M\n",
    "2.\tDemographics of Toronto neighborhoods:\n",
    "https://en.wikipedia.org/wiki/Demographics_of_Toronto_neighbourhoods\n",
    "3.\tGeocoder/Google geolocation API\n",
    "4.\tFoursquare APIs\n",
    "\n",
    "\n",
    "## Data Sources at a glance:\n",
    "1.\tToronto neighborhoods: This Wikipedia page provides a list of postal codes of Canada beginning with the letter M. All these postal codes correspond to Boroughs and neighborhoods located within Toronto. The required data set is extracted using ‘Beautiful soup’ and this is one of the data sets that will be used to solve the problem at hand.\n",
    "\n",
    "2.\tDemographics of Toronto neighborhoods: Apart from the data source listed above, demographic information is also quite crucial for addressing the given problem as the business venture is primarily focussed on an ethnic group. This Wikipedia page provides a list of demographic information for Toronto neighborhoods. ‘Beautiful soup’ will be used to extract the required data and then generate the required data set.\n",
    "\n",
    "3.\tGeocoder/ Google geolocation API:  Address geocoding refers to the process of finding an associated latitude and longitude for a given address. The geocoordinates (viz. latitude and longitude) for the neighborhoods will be obtained using the geocoder or by using Google geolocation API. \n",
    "\n",
    "4.\tFoursquare API: Foursquare is one of the most popular Location Based Social Network (LBSN) in recent times. Foursquare provides personalized recommendations of places to go to near a user's current location based on users' previous browsing history, purchases, or check-in history. It allows users to explore the world around them and provides geo tagged information. The Foursquare API allows application developers to interact with the Foursquare platform. The API provides location-based experiences with diverse information about venues, users, photos, and check-ins. The API supports real time access to places, Snap-to-Place that assigns users to specific locations, and Geo-tag. API calls will be made to obtain the required information for different venues of interest located in the neighborhoods. This information is crucial in meeting the objective of this project.\n"
   ]
  },
  {
   "cell_type": "code",
   "execution_count": null,
   "metadata": {},
   "outputs": [],
   "source": []
  }
 ],
 "metadata": {
  "kernelspec": {
   "display_name": "Python 3",
   "language": "python",
   "name": "python3"
  },
  "language_info": {
   "codemirror_mode": {
    "name": "ipython",
    "version": 3
   },
   "file_extension": ".py",
   "mimetype": "text/x-python",
   "name": "python",
   "nbconvert_exporter": "python",
   "pygments_lexer": "ipython3",
   "version": "3.6.6"
  }
 },
 "nbformat": 4,
 "nbformat_minor": 2
}
